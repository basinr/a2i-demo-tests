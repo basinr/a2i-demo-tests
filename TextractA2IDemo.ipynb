{
 "cells": [
  {
   "cell_type": "markdown",
   "metadata": {},
   "source": [
    "# Getting Started"
   ]
  },
  {
   "cell_type": "markdown",
   "metadata": {},
   "source": [
    "In this tutorial, we will be showing you how you can use AWS Augmented AI (A2) directly with your calls to Textract's Analyze Document API. For more in depth instructions, visit https://docs.aws.amazon.com/sagemaker/latest/dg/a2i-getting-started.html#a2i-getting-started-prerequisites (**note**: the Prerequisites on this site must be completed prior to beginning this tutorial)\n",
    "\n",
    "To incorporate Amazon A2I into your data labeling workflow for all task types, you need three resources:\n",
    "\n",
    "* A **worker task template** to create a worker UI. The worker UI displays your input data, such as documents or images, and instructions to workers. It also provides interactive tools that the worker uses to complete your tasks. For more information, see Create a Worker UI.\n",
    "\n",
    "* A **human review workflow**, also referred to as a flow definition. You use the flow definition to configure your human workforce and provide information about how to accomplish the labeling task. For built-in task types, you also use the flow definition to identify the conditions under which a review human loop is triggered. For example, Amazon Rekognition can perform image content moderation using machine learning. You can use the flow definition to specify that an image will be sent to a human for content moderation review if Amazon Rekognition's confidence is too low. You can create a flow definition in the Amazon SageMaker console or with the Amazon SageMaker API. To learn more about both of these options, see Create a Flow Definition.\n",
    "\n",
    "* A **human loop** to start your human review workflow. When you use one of the built-in task types, the corresponding AWS service creates and starts a human loop on your behalf when the conditions specified in your flow definition are met or for each object if no conditions were specified. When a human loop is triggered, human review tasks are sent to the workers as specified in the flow definition.\n",
    "\n",
    "When using a custom task type, you start a human loop using the Amazon Augmented AI Runtime API. When you call StartHumanLoop in your custom application, a task is sent to human reviewers."
   ]
  },
  {
   "cell_type": "code",
   "execution_count": null,
   "metadata": {},
   "outputs": [],
   "source": [
    "!pip install --upgrade pip\n",
    "!pip install boto3 --upgrade\n",
    "!pip install -U botocore"
   ]
  },
  {
   "cell_type": "code",
   "execution_count": null,
   "metadata": {},
   "outputs": [],
   "source": [
    "import io\n",
    "from io import BytesIO\n",
    "import sys\n",
    "import boto3\n",
    "from PIL import Image, ImageDraw, ImageFont\n",
    "import json"
   ]
  },
  {
   "cell_type": "code",
   "execution_count": null,
   "metadata": {},
   "outputs": [],
   "source": [
    "sagemaker_client = boto3.client('sagemaker')"
   ]
  },
  {
   "cell_type": "markdown",
   "metadata": {},
   "source": [
    "## Creating the Worker Task Template"
   ]
  },
  {
   "cell_type": "markdown",
   "metadata": {},
   "source": [
    "Since we are integrating A2I with Textract, we can create the template in the Console using default templates provided by A2I, to make the process easier (https://docs.aws.amazon.com/sagemaker/latest/dg/a2i-instructions-overview.html). "
   ]
  },
  {
   "cell_type": "markdown",
   "metadata": {},
   "source": [
    "Following these instructions: https://docs.aws.amazon.com/sagemaker/latest/dg/a2i-create-flow-definition.html#create-human-review-console, we've created our Worker Task Template and the following Task UI Arn was created:"
   ]
  },
  {
   "cell_type": "code",
   "execution_count": null,
   "metadata": {},
   "outputs": [],
   "source": [
    "taskUiArn = 'arn:aws:sagemaker:us-east-1:053520186210:human-task-ui/ronnie-test-template-textract-8'"
   ]
  },
  {
   "cell_type": "markdown",
   "metadata": {},
   "source": [
    "## Creating the Flow Definition (Human Review Workflow)"
   ]
  },
  {
   "cell_type": "markdown",
   "metadata": {},
   "source": [
    "In this section, we're going to create a flow definition definition. Flow Definitions allow us to specify:\n",
    "\n",
    "* For the Amazon Textract and Amazon Rekognition built in task types, the conditions under which your human loop will be called.\n",
    "* The workforce that your tasks will be sent to.\n",
    "* The instructions that your workforce will receive. This is called a worker task template.\n",
    "* The configuration of your worker tasks, including the number of workers that receive a task and time limits to complete tasks.\n",
    "* Where your output data will be stored.\n",
    "\n",
    "This demo is going to use the API, but you can optionally create this workflow definition in the console as well. \n",
    "\n",
    "For more details and instructions, see: https://docs.aws.amazon.com/sagemaker/latest/dg/a2i-create-flow-definition.html."
   ]
  },
  {
   "cell_type": "markdown",
   "metadata": {},
   "source": [
    "#### Setup initial values"
   ]
  },
  {
   "cell_type": "markdown",
   "metadata": {},
   "source": [
    "##### Let's specify our SageMaker Execution Role Arn:"
   ]
  },
  {
   "cell_type": "code",
   "execution_count": null,
   "metadata": {},
   "outputs": [],
   "source": [
    "executionRole = 'arn:aws:iam::053520186210:role/service-role/AmazonSageMaker-ExecutionRole-20191231T143745'"
   ]
  },
  {
   "cell_type": "markdown",
   "metadata": {},
   "source": [
    "##### WorkTeam (WorkForce) Arn:"
   ]
  },
  {
   "cell_type": "markdown",
   "metadata": {},
   "source": [
    "As part of Prerequisites, you will have created a work team. A workforce is the group of workers that you have selected to label your dataset. You can choose either:\n",
    "* the Amazon Mechanical Turk workforce, \n",
    "* a vendor-managed workforce, or \n",
    "* you can create your own private workforce\n",
    "\n",
    "Whichever workforce type you choose, Amazon SageMaker takes care of sending tasks to workers. \n",
    "\n",
    "In case you have not already created a workteam, continue here: https://docs.aws.amazon.com/sagemaker/latest/dg/sms-workforce-management.html"
   ]
  },
  {
   "cell_type": "code",
   "execution_count": null,
   "metadata": {},
   "outputs": [],
   "source": [
    "workTeam = 'arn:aws:sagemaker:us-east-1:053520186210:workteam/private-crowd/textract-private-workteam'"
   ]
  },
  {
   "cell_type": "markdown",
   "metadata": {},
   "source": [
    "##### The name we want for this Flow Definition"
   ]
  },
  {
   "cell_type": "code",
   "execution_count": null,
   "metadata": {},
   "outputs": [],
   "source": [
    "flowDefinitionName = 'textract-demo-99-percent-with-important-form-keys-2'"
   ]
  },
  {
   "cell_type": "markdown",
   "metadata": {},
   "source": [
    "##### The s3 path which A2I will send results to"
   ]
  },
  {
   "cell_type": "code",
   "execution_count": null,
   "metadata": {},
   "outputs": [],
   "source": [
    "s3OutputPath = 's3://053520186210-aws-textract-testing/output'"
   ]
  },
  {
   "cell_type": "markdown",
   "metadata": {},
   "source": [
    "#### Specify Human Loop Activation Conditions"
   ]
  },
  {
   "cell_type": "markdown",
   "metadata": {},
   "source": [
    "Since we are using a built-in integration type for A2I (certain Textract and Rekognition APIs), we can use Human Loop Activation Conditions to provide conditions that trigger a human loop.\n",
    "\n",
    "Here we are specifying that for any Key in our document, if the confidence returned by Textract is below 100 or above 0, it should be sent to a human for review (this means everything will be sent to a human). "
   ]
  },
  {
   "cell_type": "code",
   "execution_count": null,
   "metadata": {},
   "outputs": [],
   "source": [
    "# Visit https://docs.aws.amazon.com/sagemaker/latest/dg/a2i-human-fallback-conditions-json-schema.html for more information on this schema.\n",
    "\n",
    "humanLoopActivationConditions = json.dumps({\n",
    "  \"Conditions\": [\n",
    "    {\n",
    "      \"And\": [\n",
    "        {\n",
    "          \"ConditionType\": \"ImportantFormKeyConfidenceCheck\",\n",
    "          \"ConditionParameters\": {\n",
    "            \"ImportantFormKey\": \"*\",\n",
    "            \"KeyValueBlockConfidenceLessThan\": 100,\n",
    "            \"WordBlockConfidenceLessThan\": 100\n",
    "          }\n",
    "        },\n",
    "        {\n",
    "          \"ConditionType\": \"ImportantFormKeyConfidenceCheck\",\n",
    "          \"ConditionParameters\": {\n",
    "            \"ImportantFormKey\": \"*\",\n",
    "            \"KeyValueBlockConfidenceGreaterThan\": 0,\n",
    "            \"WordBlockConfidenceGreaterThan\": 0\n",
    "          }\n",
    "        }\n",
    "      ]\n",
    "    }\n",
    "  ]\n",
    "})"
   ]
  },
  {
   "cell_type": "markdown",
   "metadata": {},
   "source": [
    "#### Now we are ready to create our Flow Definition!"
   ]
  },
  {
   "cell_type": "code",
   "execution_count": null,
   "metadata": {},
   "outputs": [],
   "source": [
    "create_workflow_definition_response = sagemaker_client.create_flow_definition(\n",
    "        FlowDefinitionName= flowDefinitionName,\n",
    "        RoleArn= executionRole,\n",
    "        HumanLoopConfig= {\n",
    "            \"WorkteamArn\": workTeam,\n",
    "            \"HumanTaskUiArn\": taskUiArn,\n",
    "            \"TaskCount\": 1,\n",
    "            \"TaskDescription\": \"Document analysis sample task description\",\n",
    "            \"TaskTitle\": \"Document analysis sample task\"\n",
    "        },\n",
    "        HumanLoopActivationConfig={\n",
    "            \"HumanLoopRequestSource\": {\n",
    "                \"AwsManagedHumanLoopRequestSource\": \"AWS/Textract/AnalyzeDocument/Forms/V1\"\n",
    "            },\n",
    "            \"HumanLoopActivationConditionsConfig\": {\n",
    "                \"HumanLoopActivationConditions\": humanLoopActivationConditions\n",
    "            }\n",
    "        },\n",
    "        OutputConfig={\n",
    "            \"S3OutputPath\" : s3OutputPath\n",
    "        }\n",
    "    )\n",
    "flowDefinitionArn = create_workflow_definition_response['FlowDefinitionArn'] # let's save this ARN for future use"
   ]
  },
  {
   "cell_type": "markdown",
   "metadata": {},
   "source": [
    "## Calling Textract to Analyze Document with A2I"
   ]
  },
  {
   "cell_type": "markdown",
   "metadata": {},
   "source": [
    "Now that we have setup our Flow Definition, all that's left is calling Textract's Analyze Document API, and including our A2I paramters in the HumanLoopConfig."
   ]
  },
  {
   "cell_type": "markdown",
   "metadata": {},
   "source": [
    "#### Let's give our human loop a name"
   ]
  },
  {
   "cell_type": "code",
   "execution_count": null,
   "metadata": {},
   "outputs": [],
   "source": [
    "humanLoopName = 'textract-analyze-document-demo-a2i-2'"
   ]
  },
  {
   "cell_type": "code",
   "execution_count": null,
   "metadata": {},
   "outputs": [],
   "source": [
    "textract_client = boto3.client('textract')"
   ]
  },
  {
   "cell_type": "code",
   "execution_count": null,
   "metadata": {},
   "outputs": [],
   "source": [
    "humanLoopConfig = {\n",
    "    'FlowDefinitionArn':flowDefinitionArn,\n",
    "    'HumanLoopName':humanLoopName, \n",
    "    'DataAttributes': { 'ContentClassifiers': [ 'FreeOfPersonallyIdentifiableInformation' ]}\n",
    "}"
   ]
  },
  {
   "cell_type": "code",
   "execution_count": null,
   "metadata": {},
   "outputs": [],
   "source": [
    "analyze_document_response = textract_client.analyze_document(\n",
    "    Document={'S3Object': {'Bucket': '053520186210-aws-textract-testing', 'Name': 'invoice-1.jpg'}},\n",
    "    FeatureTypes=[\"TABLES\", \"FORMS\"], \n",
    "    HumanLoopConfig=humanLoopConfig\n",
    ")"
   ]
  },
  {
   "cell_type": "markdown",
   "metadata": {},
   "source": [
    "In addition to the standard Textract response body, the response includes a new field called \"HumanLoopActivationOutput\" which gives us information about our Human Loop..."
   ]
  },
  {
   "cell_type": "code",
   "execution_count": null,
   "metadata": {},
   "outputs": [],
   "source": [
    "display(analyze_document_response['HumanLoopActivationOutput']['HumanLoopArn'])\n",
    "display(analyze_document_response['HumanLoopActivationOutput']['HumanLoopActivationReasons'])\n",
    "display(analyze_document_response['HumanLoopActivationOutput']['HumanLoopActivationConditionsEvaluationResults'])"
   ]
  },
  {
   "cell_type": "markdown",
   "metadata": {},
   "source": [
    "## Monitoring Human Loop for Completion"
   ]
  },
  {
   "cell_type": "markdown",
   "metadata": {},
   "source": [
    "A2I gives the user the ability to monitor the human loop until all the work has been completed by the selected workforce. Using the A2I runtime client, we can check on our human loop and get updates as fast as we need."
   ]
  },
  {
   "cell_type": "code",
   "execution_count": null,
   "metadata": {},
   "outputs": [],
   "source": [
    "a2i_runtime_client = boto3.client('sagemaker-a2i-runtime')"
   ]
  },
  {
   "cell_type": "code",
   "execution_count": null,
   "metadata": {},
   "outputs": [],
   "source": [
    "describe_human_loop_response = a2i_runtime_client.describe_human_loop(\n",
    "    HumanLoopName=humanLoopName\n",
    ")"
   ]
  },
  {
   "cell_type": "code",
   "execution_count": null,
   "metadata": {},
   "outputs": [],
   "source": [
    "display(describe_human_loop_response['HumanLoopStatus'])\n",
    "display(describe_human_loop_response['HumanLoopOutput'])"
   ]
  },
  {
   "cell_type": "code",
   "execution_count": null,
   "metadata": {},
   "outputs": [],
   "source": []
  }
 ],
 "metadata": {
  "kernelspec": {
   "display_name": "conda_python3",
   "language": "python",
   "name": "conda_python3"
  },
  "language_info": {
   "codemirror_mode": {
    "name": "ipython",
    "version": 3
   },
   "file_extension": ".py",
   "mimetype": "text/x-python",
   "name": "python",
   "nbconvert_exporter": "python",
   "pygments_lexer": "ipython3",
   "version": "3.6.5"
  }
 },
 "nbformat": 4,
 "nbformat_minor": 4
}
