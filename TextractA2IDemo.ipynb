{
 "cells": [
  {
   "cell_type": "code",
   "execution_count": 1,
   "metadata": {},
   "outputs": [
    {
     "name": "stdout",
     "output_type": "stream",
     "text": [
      "Requirement already up-to-date: pip in /home/ec2-user/anaconda3/envs/python3/lib/python3.6/site-packages (20.0.2)\n",
      "Requirement already up-to-date: botocore in /home/ec2-user/anaconda3/envs/python3/lib/python3.6/site-packages (1.15.21)\n",
      "Requirement already satisfied, skipping upgrade: docutils<0.16,>=0.10 in /home/ec2-user/anaconda3/envs/python3/lib/python3.6/site-packages (from botocore) (0.14)\n",
      "Requirement already satisfied, skipping upgrade: jmespath<1.0.0,>=0.7.1 in /home/ec2-user/anaconda3/envs/python3/lib/python3.6/site-packages (from botocore) (0.9.4)\n",
      "Requirement already satisfied, skipping upgrade: urllib3<1.26,>=1.20; python_version != \"3.4\" in /home/ec2-user/anaconda3/envs/python3/lib/python3.6/site-packages (from botocore) (1.23)\n",
      "Requirement already satisfied, skipping upgrade: python-dateutil<3.0.0,>=2.1 in /home/ec2-user/anaconda3/envs/python3/lib/python3.6/site-packages (from botocore) (2.7.3)\n",
      "Requirement already satisfied, skipping upgrade: six>=1.5 in /home/ec2-user/anaconda3/envs/python3/lib/python3.6/site-packages (from python-dateutil<3.0.0,>=2.1->botocore) (1.11.0)\n"
     ]
    }
   ],
   "source": [
    "!pip install --upgrade pip\n",
    "!pip install -U botocore"
   ]
  },
  {
   "cell_type": "code",
   "execution_count": 16,
   "metadata": {},
   "outputs": [],
   "source": [
    "import io\n",
    "from io import BytesIO\n",
    "import sys\n",
    "import boto3\n",
    "from PIL import Image, ImageDraw, ImageFont\n",
    "import json"
   ]
  },
  {
   "cell_type": "code",
   "execution_count": 12,
   "metadata": {},
   "outputs": [],
   "source": [
    "sagemaker_client = boto3.client('sagemaker')"
   ]
  },
  {
   "cell_type": "code",
   "execution_count": null,
   "metadata": {},
   "outputs": [],
   "source": []
  },
  {
   "cell_type": "markdown",
   "metadata": {},
   "source": [
    "## Creating the Workflow Definition "
   ]
  },
  {
   "cell_type": "code",
   "execution_count": 13,
   "metadata": {},
   "outputs": [],
   "source": [
    "executionRole = 'arn:aws:iam::053520186210:role/service-role/AmazonSageMaker-ExecutionRole-20191231T143745'\n",
    "workTeam = 'arn:aws:sagemaker:us-east-1:053520186210:workteam/private-crowd/textract-private-workteam'\n",
    "flowDefinitionName = 'textract-demo-99-percent-with-important-form-keys-2'\n",
    "taskUiArn = 'arn:aws:sagemaker:us-east-1:053520186210:human-task-ui/ronnie-test-template-textract-8'\n",
    "s3OutputPath = 's3://053520186210-aws-textract-testing/output'"
   ]
  },
  {
   "cell_type": "code",
   "execution_count": null,
   "metadata": {},
   "outputs": [],
   "source": []
  },
  {
   "cell_type": "markdown",
   "metadata": {},
   "source": [
    "### HumanLoop Activation Conditions"
   ]
  },
  {
   "cell_type": "code",
   "execution_count": 17,
   "metadata": {},
   "outputs": [],
   "source": [
    "humanLoopActivationConditions = json.dumps({\n",
    "  \"Conditions\": [\n",
    "    {\n",
    "      \"And\": [\n",
    "        {\n",
    "          \"ConditionType\": \"ImportantFormKeyConfidenceCheck\",\n",
    "          \"ConditionParameters\": {\n",
    "            \"ImportantFormKey\": \"*\",\n",
    "            \"KeyValueBlockConfidenceLessThan\": 100,\n",
    "            \"WordBlockConfidenceLessThan\": 100\n",
    "          }\n",
    "        },\n",
    "        {\n",
    "          \"ConditionType\": \"ImportantFormKeyConfidenceCheck\",\n",
    "          \"ConditionParameters\": {\n",
    "            \"ImportantFormKey\": \"*\",\n",
    "            \"KeyValueBlockConfidenceGreaterThan\": 0,\n",
    "            \"WordBlockConfidenceGreaterThan\": 0\n",
    "          }\n",
    "        }\n",
    "      ]\n",
    "    }\n",
    "  ]\n",
    "})"
   ]
  },
  {
   "cell_type": "code",
   "execution_count": 20,
   "metadata": {},
   "outputs": [],
   "source": [
    "create_workflow_definition_response = sagemaker_client.create_flow_definition(\n",
    "        FlowDefinitionName= flowDefinitionName,\n",
    "        RoleArn= executionRole,\n",
    "        HumanLoopConfig= {\n",
    "            \"WorkteamArn\": workTeam,\n",
    "            \"HumanTaskUiArn\": taskUiArn,\n",
    "            \"TaskCount\": 1,\n",
    "            \"TaskDescription\": \"Document analysis sample task description\",\n",
    "            \"TaskTitle\": \"Document analysis sample task\"\n",
    "        },\n",
    "        HumanLoopActivationConfig={\n",
    "            \"HumanLoopRequestSource\": {\n",
    "                \"AwsManagedHumanLoopRequestSource\": \"AWS/Textract/AnalyzeDocument/Forms/V1\"\n",
    "            },\n",
    "            \"HumanLoopActivationConditionsConfig\": {\n",
    "                \"HumanLoopActivationConditions\": humanLoopActivationConditions\n",
    "            }\n",
    "        },\n",
    "        OutputConfig={\n",
    "            \"S3OutputPath\" : s3OutputPath\n",
    "        }\n",
    "    )\n",
    "flowDefinitionArn = create_workflow_definition_response['FlowDefinitionArn'] "
   ]
  },
  {
   "cell_type": "markdown",
   "metadata": {},
   "source": [
    "## Calling Textract to Analyze Document with A2I"
   ]
  },
  {
   "cell_type": "code",
   "execution_count": 21,
   "metadata": {},
   "outputs": [],
   "source": [
    "humanLoopName = 'textract-analyze-document-demo-human-loop'"
   ]
  },
  {
   "cell_type": "code",
   "execution_count": 22,
   "metadata": {},
   "outputs": [],
   "source": [
    "textract_client = boto3.client('textract')"
   ]
  },
  {
   "cell_type": "code",
   "execution_count": 23,
   "metadata": {},
   "outputs": [],
   "source": [
    "analyze_document_response = client.analyze_document(Document={'S3Object': {'Bucket': '053520186210-aws-textract-testing', 'Name': 'invoice-1.jpg'}},\n",
    "                                                    FeatureTypes=[\"TABLES\", \"FORMS\"], \n",
    "                                                    HumanLoopConfig={'FlowDefinitionArn':flowDefinitionArn,\n",
    "                                                                    'HumanLoopName':humanLoopName, \n",
    "                                                                    'DataAttributes': { 'ContentClassifiers': [ 'FreeOfPersonallyIdentifiableInformation' ]}}\n",
    "                                                   )"
   ]
  },
  {
   "cell_type": "markdown",
   "metadata": {},
   "source": [
    "### Check if Human Loop was Activated"
   ]
  },
  {
   "cell_type": "code",
   "execution_count": 26,
   "metadata": {},
   "outputs": [
    {
     "data": {
      "text/plain": [
       "'arn:aws:sagemaker:us-east-1:053520186210:human-loop/textract-analyze-document-demo-human-loop'"
      ]
     },
     "metadata": {},
     "output_type": "display_data"
    },
    {
     "data": {
      "text/plain": [
       "['ConditionsEvaluation']"
      ]
     },
     "metadata": {},
     "output_type": "display_data"
    },
    {
     "data": {
      "text/plain": [
       "'{\"Conditions\":[{\"And\":[{\"ConditionType\":\"ImportantFormKeyConfidenceCheck\",\"ConditionParameters\":{\"ImportantFormKey\":\"*\",\"ImportantFormKeyAliases\":[],\"KeyValueBlockConfidenceLessThan\":100.0,\"WordBlockConfidenceLessThan\":100.0},\"EvaluationResult\":true},{\"ConditionType\":\"ImportantFormKeyConfidenceCheck\",\"ConditionParameters\":{\"ImportantFormKey\":\"*\",\"ImportantFormKeyAliases\":[],\"KeyValueBlockConfidenceGreaterThan\":0.0,\"WordBlockConfidenceGreaterThan\":0.0},\"EvaluationResult\":true}],\"EvaluationResult\":true}]}'"
      ]
     },
     "metadata": {},
     "output_type": "display_data"
    }
   ],
   "source": [
    "display(analyze_document_response['HumanLoopActivationOutput']['HumanLoopArn'])\n",
    "display(analyze_document_response['HumanLoopActivationOutput']['HumanLoopActivationReasons'])\n",
    "display(analyze_document_response['HumanLoopActivationOutput']['HumanLoopActivationConditionsEvaluationResults'])"
   ]
  },
  {
   "cell_type": "markdown",
   "metadata": {},
   "source": [
    "## Monitoring Human Loop for Completion"
   ]
  },
  {
   "cell_type": "code",
   "execution_count": 27,
   "metadata": {},
   "outputs": [],
   "source": [
    "a2i_runtime_client = boto3.client('sagemaker-a2i-runtime')"
   ]
  },
  {
   "cell_type": "code",
   "execution_count": 29,
   "metadata": {},
   "outputs": [],
   "source": [
    "describe_human_loop_response = a2i_runtime_client.describe_human_loop(\n",
    "    HumanLoopName=humanLoopName\n",
    ")"
   ]
  },
  {
   "cell_type": "code",
   "execution_count": 33,
   "metadata": {},
   "outputs": [
    {
     "data": {
      "text/plain": [
       "'InProgress'"
      ]
     },
     "metadata": {},
     "output_type": "display_data"
    },
    {
     "data": {
      "text/plain": [
       "{'OutputS3Uri': 's3://053520186210-aws-textract-testing/output/textract-demo-99-percent-with-important-form-keys-2/2020/03/15/19/26/19/textract-analyze-document-demo-human-loop/output.json'}"
      ]
     },
     "metadata": {},
     "output_type": "display_data"
    }
   ],
   "source": [
    "display(describe_human_loop_response['HumanLoopStatus'])\n",
    "display(describe_human_loop_response['HumanLoopOutput'])"
   ]
  },
  {
   "cell_type": "code",
   "execution_count": null,
   "metadata": {},
   "outputs": [],
   "source": []
  }
 ],
 "metadata": {
  "kernelspec": {
   "display_name": "conda_python3",
   "language": "python",
   "name": "conda_python3"
  },
  "language_info": {
   "codemirror_mode": {
    "name": "ipython",
    "version": 3
   },
   "file_extension": ".py",
   "mimetype": "text/x-python",
   "name": "python",
   "nbconvert_exporter": "python",
   "pygments_lexer": "ipython3",
   "version": "3.6.5"
  }
 },
 "nbformat": 4,
 "nbformat_minor": 4
}
